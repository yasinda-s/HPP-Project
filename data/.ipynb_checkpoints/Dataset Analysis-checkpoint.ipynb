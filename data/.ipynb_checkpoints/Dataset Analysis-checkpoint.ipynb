{
 "cells": [
  {
   "cell_type": "code",
   "execution_count": 153,
   "id": "3cf51b98",
   "metadata": {},
   "outputs": [],
   "source": [
    "import pandas as pd\n",
    "import numpy as np\n",
    "import matplotlib.pyplot as plt\n",
    "import xgboost as xgb\n",
    "import joblib\n",
    "\n",
    "from sklearn.preprocessing import OneHotEncoder\n",
    "from sklearn.preprocessing import MinMaxScaler\n",
    "from sklearn.preprocessing import PolynomialFeatures\n",
    "from sklearn.model_selection import train_test_split\n",
    "from sklearn.model_selection import GridSearchCV\n",
    "from sklearn.linear_model import LinearRegression\n",
    "from sklearn.metrics import mean_absolute_error, mean_squared_error, r2_score\n",
    "\n",
    "SEED = 42"
   ]
  },
  {
   "cell_type": "code",
   "execution_count": 154,
   "id": "14ec2189",
   "metadata": {},
   "outputs": [],
   "source": [
    "df = pd.read_csv(\"Housing.csv\")"
   ]
  },
  {
   "cell_type": "code",
   "execution_count": 155,
   "id": "004ca5a4",
   "metadata": {},
   "outputs": [
    {
     "data": {
      "text/html": [
       "<div>\n",
       "<style scoped>\n",
       "    .dataframe tbody tr th:only-of-type {\n",
       "        vertical-align: middle;\n",
       "    }\n",
       "\n",
       "    .dataframe tbody tr th {\n",
       "        vertical-align: top;\n",
       "    }\n",
       "\n",
       "    .dataframe thead th {\n",
       "        text-align: right;\n",
       "    }\n",
       "</style>\n",
       "<table border=\"1\" class=\"dataframe\">\n",
       "  <thead>\n",
       "    <tr style=\"text-align: right;\">\n",
       "      <th></th>\n",
       "      <th>price</th>\n",
       "      <th>area</th>\n",
       "      <th>bedrooms</th>\n",
       "      <th>bathrooms</th>\n",
       "      <th>stories</th>\n",
       "      <th>mainroad</th>\n",
       "      <th>guestroom</th>\n",
       "      <th>basement</th>\n",
       "      <th>hotwaterheating</th>\n",
       "      <th>airconditioning</th>\n",
       "      <th>parking</th>\n",
       "      <th>prefarea</th>\n",
       "      <th>furnishingstatus</th>\n",
       "    </tr>\n",
       "  </thead>\n",
       "  <tbody>\n",
       "    <tr>\n",
       "      <th>0</th>\n",
       "      <td>13300000</td>\n",
       "      <td>7420</td>\n",
       "      <td>4</td>\n",
       "      <td>2</td>\n",
       "      <td>3</td>\n",
       "      <td>yes</td>\n",
       "      <td>no</td>\n",
       "      <td>no</td>\n",
       "      <td>no</td>\n",
       "      <td>yes</td>\n",
       "      <td>2</td>\n",
       "      <td>yes</td>\n",
       "      <td>furnished</td>\n",
       "    </tr>\n",
       "    <tr>\n",
       "      <th>1</th>\n",
       "      <td>12250000</td>\n",
       "      <td>8960</td>\n",
       "      <td>4</td>\n",
       "      <td>4</td>\n",
       "      <td>4</td>\n",
       "      <td>yes</td>\n",
       "      <td>no</td>\n",
       "      <td>no</td>\n",
       "      <td>no</td>\n",
       "      <td>yes</td>\n",
       "      <td>3</td>\n",
       "      <td>no</td>\n",
       "      <td>furnished</td>\n",
       "    </tr>\n",
       "    <tr>\n",
       "      <th>2</th>\n",
       "      <td>12250000</td>\n",
       "      <td>9960</td>\n",
       "      <td>3</td>\n",
       "      <td>2</td>\n",
       "      <td>2</td>\n",
       "      <td>yes</td>\n",
       "      <td>no</td>\n",
       "      <td>yes</td>\n",
       "      <td>no</td>\n",
       "      <td>no</td>\n",
       "      <td>2</td>\n",
       "      <td>yes</td>\n",
       "      <td>semi-furnished</td>\n",
       "    </tr>\n",
       "    <tr>\n",
       "      <th>3</th>\n",
       "      <td>12215000</td>\n",
       "      <td>7500</td>\n",
       "      <td>4</td>\n",
       "      <td>2</td>\n",
       "      <td>2</td>\n",
       "      <td>yes</td>\n",
       "      <td>no</td>\n",
       "      <td>yes</td>\n",
       "      <td>no</td>\n",
       "      <td>yes</td>\n",
       "      <td>3</td>\n",
       "      <td>yes</td>\n",
       "      <td>furnished</td>\n",
       "    </tr>\n",
       "    <tr>\n",
       "      <th>4</th>\n",
       "      <td>11410000</td>\n",
       "      <td>7420</td>\n",
       "      <td>4</td>\n",
       "      <td>1</td>\n",
       "      <td>2</td>\n",
       "      <td>yes</td>\n",
       "      <td>yes</td>\n",
       "      <td>yes</td>\n",
       "      <td>no</td>\n",
       "      <td>yes</td>\n",
       "      <td>2</td>\n",
       "      <td>no</td>\n",
       "      <td>furnished</td>\n",
       "    </tr>\n",
       "  </tbody>\n",
       "</table>\n",
       "</div>"
      ],
      "text/plain": [
       "      price  area  bedrooms  bathrooms  stories mainroad guestroom basement  \\\n",
       "0  13300000  7420         4          2        3      yes        no       no   \n",
       "1  12250000  8960         4          4        4      yes        no       no   \n",
       "2  12250000  9960         3          2        2      yes        no      yes   \n",
       "3  12215000  7500         4          2        2      yes        no      yes   \n",
       "4  11410000  7420         4          1        2      yes       yes      yes   \n",
       "\n",
       "  hotwaterheating airconditioning  parking prefarea furnishingstatus  \n",
       "0              no             yes        2      yes        furnished  \n",
       "1              no             yes        3       no        furnished  \n",
       "2              no              no        2      yes   semi-furnished  \n",
       "3              no             yes        3      yes        furnished  \n",
       "4              no             yes        2       no        furnished  "
      ]
     },
     "execution_count": 155,
     "metadata": {},
     "output_type": "execute_result"
    }
   ],
   "source": [
    "df.head()"
   ]
  },
  {
   "cell_type": "code",
   "execution_count": 156,
   "id": "bd3ba7bf",
   "metadata": {},
   "outputs": [
    {
     "name": "stdout",
     "output_type": "stream",
     "text": [
      "NaN presence in data\n",
      "price               0\n",
      "area                0\n",
      "bedrooms            0\n",
      "bathrooms           0\n",
      "stories             0\n",
      "mainroad            0\n",
      "guestroom           0\n",
      "basement            0\n",
      "hotwaterheating     0\n",
      "airconditioning     0\n",
      "parking             0\n",
      "prefarea            0\n",
      "furnishingstatus    0\n",
      "dtype: int64\n",
      "\n",
      "Dropped duplicates in the data\n"
     ]
    }
   ],
   "source": [
    "#DATA CLEANING\n",
    "#1. No NaN data in this dataframe\n",
    "print(\"NaN presence in data\")\n",
    "print(df.isna().sum())\n",
    "\n",
    "#2. Duplicates in the dataframe\n",
    "df = df.drop_duplicates()\n",
    "print(\"\\nDropped duplicates in the data\")"
   ]
  },
  {
   "cell_type": "code",
   "execution_count": 157,
   "id": "c168c236",
   "metadata": {},
   "outputs": [],
   "source": [
    "#3. Converting categorical data into numerical data\n",
    "# 2 common options to do this - Label Encoding (used when the order of categories matter) and One-Hot Encoding (used when order of categories does not matter)\n",
    "\n",
    "cols_to_convert = [\"mainroad\",\"guestroom\",\"basement\",\"hotwaterheating\",\"airconditioning\",\"prefarea\",\"furnishingstatus\"]\n",
    "\n",
    "one_hot_encoder = OneHotEncoder(sparse_output=False)\n",
    "for col in cols_to_convert:\n",
    "    encoded_col = one_hot_encoder.fit_transform(df[[col]]) #[[]] to make the input 2D\n",
    "    encoded_df = pd.DataFrame(encoded_col, columns=one_hot_encoder.get_feature_names_out([col]), index=df.index)\n",
    "    df = pd.concat([df.drop(col, axis=1), encoded_df], axis=1)"
   ]
  },
  {
   "cell_type": "code",
   "execution_count": 158,
   "id": "932ed94b",
   "metadata": {},
   "outputs": [],
   "source": [
    "#4. Convert to X and y\n",
    "X = df[['area','bedrooms','bathrooms','stories','parking','mainroad_no','mainroad_yes','guestroom_no','guestroom_yes',\n",
    "       'basement_no','basement_yes','hotwaterheating_no','hotwaterheating_yes','airconditioning_no','airconditioning_yes',\n",
    "       'prefarea_no','prefarea_yes','furnishingstatus_furnished',\n",
    "       'furnishingstatus_semi-furnished','furnishingstatus_unfurnished']]\n",
    "\n",
    "y = df['price']"
   ]
  },
  {
   "cell_type": "code",
   "execution_count": 159,
   "id": "8aedc754",
   "metadata": {},
   "outputs": [],
   "source": [
    "#5. Feature scale/normalize the data to bring them to a similar scale.\n",
    "# 2 common options - MinMaxScaling (scaling for a range [0,1]) and StandardScaler (Z-score scaling where 0 is mean + 1 SD)\n",
    "\n",
    "scaler = MinMaxScaler()\n",
    "X_scaled = scaler.fit_transform(X)"
   ]
  },
  {
   "cell_type": "code",
   "execution_count": 160,
   "id": "7bbcaf5e",
   "metadata": {},
   "outputs": [],
   "source": [
    "#6. Split data into train and test\n",
    "X_train, X_test, y_train, y_test = train_test_split(X_scaled, y, test_size=0.10, random_state=SEED)"
   ]
  },
  {
   "cell_type": "code",
   "execution_count": 161,
   "id": "181832bb",
   "metadata": {},
   "outputs": [],
   "source": [
    "#OPTIONAL - could do a feature engineering to create new features or manipulate existing features (in this, data is quite clean)"
   ]
  },
  {
   "cell_type": "code",
   "execution_count": 162,
   "id": "76277bab",
   "metadata": {},
   "outputs": [
    {
     "name": "stdout",
     "output_type": "stream",
     "text": [
      "MAE: 875812.70\n",
      "MSE: 1451838962597.81\n",
      "RMSE: 1204922.80\n",
      "R-squared (R²): 0.69\n"
     ]
    }
   ],
   "source": [
    "#7. Build a simple model on this data\n",
    "#7.1 Linear Regression\n",
    "\n",
    "linear_reg = LinearRegression()\n",
    "linear_reg.fit(X_train, y_train)\n",
    "\n",
    "y_pred = linear_reg.predict(X_test)\n",
    "\n",
    "mae = mean_absolute_error(y_test, y_pred)\n",
    "mse = mean_squared_error(y_test, y_pred)\n",
    "rmse = np.sqrt(mse)\n",
    "r2 = r2_score(y_test, y_pred)\n",
    "\n",
    "print(f\"MAE: {mae:.2f}\")  #Lower the better\n",
    "print(f\"MSE: {mse:.2f}\") #Lower the better\n",
    "print(f\"RMSE: {rmse:.2f}\") #Lower the better\n",
    "print(f\"R-squared (R²): {r2:.2f}\") #Closer to 1, the better"
   ]
  },
  {
   "cell_type": "code",
   "execution_count": 163,
   "id": "045d93db",
   "metadata": {},
   "outputs": [
    {
     "name": "stdout",
     "output_type": "stream",
     "text": [
      "MAE: 1045233.39\n",
      "MSE: 2050139855394.03\n",
      "RMSE: 1431830.95\n",
      "R-squared (R²): 0.56\n"
     ]
    }
   ],
   "source": [
    "#7.2 XGBoost (Extreme Gradient Boosting)\n",
    "\n",
    "xgb_model = xgb.XGBRegressor()\n",
    "xgb_model.fit(X_train, y_train)\n",
    "\n",
    "y_pred = xgb_model.predict(X_test)\n",
    "\n",
    "mae = mean_absolute_error(y_test, y_pred)\n",
    "mse = mean_squared_error(y_test, y_pred)\n",
    "rmse = np.sqrt(mse)\n",
    "r2 = r2_score(y_test, y_pred)\n",
    "\n",
    "print(f\"MAE: {mae:.2f}\")  #Lower the better\n",
    "print(f\"MSE: {mse:.2f}\") #Lower the better\n",
    "print(f\"RMSE: {rmse:.2f}\") #Lower the better\n",
    "print(f\"R-squared (R²): {r2:.2f}\") #Closer to 1, the better"
   ]
  },
  {
   "cell_type": "code",
   "execution_count": 164,
   "id": "69d57c1e",
   "metadata": {},
   "outputs": [
    {
     "name": "stdout",
     "output_type": "stream",
     "text": [
      "Best parameters from grid : {'learning_rate': 0.01, 'max_depth': 4, 'n_estimators': 300}\n",
      "MAE: 961154.14\n",
      "MSE: 1801875749668.97\n",
      "RMSE: 1342339.66\n",
      "R-squared (R²): 0.61\n"
     ]
    }
   ],
   "source": [
    "#7.3 XGBoost (Extreme Gradient Boosting) + GridSearchCV\n",
    "\n",
    "# Define the parameters we want to explore - this goes into grid searching later\n",
    "param_grid = {\n",
    "    'n_estimators': [100, 200, 300],\n",
    "    'learning_rate': [0.01, 0.1, 0.2],\n",
    "    'max_depth': [3, 4, 5]\n",
    "}\n",
    "\n",
    "xgb_model = xgb.XGBRegressor()\n",
    "\n",
    "# Initialize GridSearchCV\n",
    "grid_search = GridSearchCV(estimator=xgb_model, param_grid=param_grid, cv=5, scoring='neg_mean_squared_error')\n",
    "# Perform grid search\n",
    "grid_search.fit(X_train, y_train)\n",
    "\n",
    "# Get the best hyperparameters\n",
    "best_params = grid_search.best_params_\n",
    "print(\"Best parameters from grid :\", best_params)\n",
    "# OPTIONAL - explore further parameter grids before and after these parameters (in order to find the better minima)\n",
    "\n",
    "# Train the model with the best hyperparameters\n",
    "best_xgb_model = xgb.XGBRegressor(**best_params)\n",
    "best_xgb_model.fit(X_train, y_train)\n",
    "\n",
    "# Make predictions and evaluate the best model\n",
    "y_pred_best = best_xgb_model.predict(X_test)\n",
    "\n",
    "mae = mean_absolute_error(y_test, y_pred_best)\n",
    "mse = mean_squared_error(y_test, y_pred_best)\n",
    "rmse = np.sqrt(mse)\n",
    "r2 = r2_score(y_test, y_pred_best)\n",
    "\n",
    "print(f\"MAE: {mae:.2f}\")  #Lower the better\n",
    "print(f\"MSE: {mse:.2f}\") #Lower the better\n",
    "print(f\"RMSE: {rmse:.2f}\") #Lower the better\n",
    "print(f\"R-squared (R²): {r2:.2f}\") #Closer to 1, the better"
   ]
  },
  {
   "cell_type": "code",
   "execution_count": 165,
   "id": "f29daf75",
   "metadata": {},
   "outputs": [
    {
     "name": "stdout",
     "output_type": "stream",
     "text": [
      "MAE: 1017881.82\n",
      "MSE: 1910168749475.20\n",
      "RMSE: 1382088.55\n",
      "R-squared (R²): 0.59\n"
     ]
    }
   ],
   "source": [
    "#7.4 Polynomial Regression (Using Linear Regression + Polynomial features)\n",
    "\n",
    "degree = 2  #1 = Linear Regression + Linear features,2 = quadratic, 3 = cubic relationship with the target, \n",
    "polynomial_features = PolynomialFeatures(degree=degree)\n",
    "X_train_poly = polynomial_features.fit_transform(X_train)\n",
    "X_test_poly = polynomial_features.transform(X_test)\n",
    "\n",
    "poly_model = LinearRegression()\n",
    "poly_model.fit(X_train_poly, y_train)\n",
    "\n",
    "y_pred = poly_model.predict(X_test_poly)\n",
    "\n",
    "mae = mean_absolute_error(y_test, y_pred)\n",
    "mse = mean_squared_error(y_test, y_pred)\n",
    "rmse = np.sqrt(mse)\n",
    "r2 = r2_score(y_test, y_pred)\n",
    "\n",
    "print(f\"MAE: {mae:.2f}\")  #Lower the better\n",
    "print(f\"MSE: {mse:.2f}\") #Lower the better\n",
    "print(f\"RMSE: {rmse:.2f}\") #Lower the better\n",
    "print(f\"R-squared (R²): {r2:.2f}\") #Closer to 1, the better"
   ]
  },
  {
   "cell_type": "code",
   "execution_count": 166,
   "id": "e74f2385",
   "metadata": {},
   "outputs": [
    {
     "data": {
      "text/plain": [
       "['linear_reg_model.joblib']"
      ]
     },
     "execution_count": 166,
     "metadata": {},
     "output_type": "execute_result"
    }
   ],
   "source": [
    "#8.1 Model saving (using joblib)\n",
    "# Since linear regression performed the best, lets serialize that and save it.\n",
    "\n",
    "filename = 'linear_reg_model.joblib'\n",
    "joblib.dump(linear_reg, filename)"
   ]
  },
  {
   "cell_type": "code",
   "execution_count": 167,
   "id": "1d0bf655",
   "metadata": {},
   "outputs": [
    {
     "name": "stdout",
     "output_type": "stream",
     "text": [
      "[1.34717827e+10 1.80813006e+09 1.83254300e+09 1.62560424e+10\n",
      " 4.55464508e+09 7.47488769e+09 2.62724528e+09 1.57472835e+10\n",
      " 1.35507457e+10 6.40118334e+09]\n"
     ]
    },
    {
     "name": "stderr",
     "output_type": "stream",
     "text": [
      "D:\\Anaconda\\envs\\basic\\Lib\\site-packages\\sklearn\\base.py:458: UserWarning: X has feature names, but LinearRegression was fitted without feature names\n",
      "  warnings.warn(\n"
     ]
    }
   ],
   "source": [
    "#8.2 Loading model to make predictions\n",
    "loaded_linear_reg_model = joblib.load(filename)\n",
    "\n",
    "# Generate 10 random numerical unseen data samples for the features\n",
    "area = np.random.uniform(500, 5000, 10)  \n",
    "bedrooms = np.random.randint(1, 6, 10)  \n",
    "bathrooms = np.random.randint(1, 4, 10)  \n",
    "stories = np.random.randint(1, 4, 10)  \n",
    "parking = np.random.randint(0, 2, 10)  \n",
    "\n",
    "# Binary categorical variables\n",
    "mainroad_no = np.random.randint(0, 2, 10)  \n",
    "mainroad_yes = 1 - mainroad_no\n",
    "guestroom_no = np.random.randint(0, 2, 10)  \n",
    "guestroom_yes = 1 - guestroom_no  \n",
    "basement_no = np.random.randint(0, 2, 10)  \n",
    "basement_yes = 1 - basement_no  \n",
    "hotwaterheating_no = np.random.randint(0, 2, 10) \n",
    "hotwaterheating_yes = 1 - hotwaterheating_no  \n",
    "airconditioning_no = np.random.randint(0, 2, 10)  \n",
    "airconditioning_yes = 1 - airconditioning_no  \n",
    "prefarea_no = np.random.randint(0, 2, 10)  \n",
    "prefarea_yes = 1 - prefarea_no\n",
    "\n",
    "# Furnishing status\n",
    "furnishingstatus_furnished = np.random.randint(0, 2, 10)\n",
    "furnishingstatus_semi_furnished = np.random.randint(0, 2, 10)\n",
    "furnishingstatus_unfurnished = 1 - furnishingstatus_furnished - furnishingstatus_semi_furnished\n",
    "\n",
    "# Combine all the generated values\n",
    "data = {\n",
    "    'area': area,\n",
    "    'bedrooms': bedrooms,\n",
    "    'bathrooms': bathrooms,\n",
    "    'stories': stories,\n",
    "    'parking': parking,\n",
    "    'mainroad_no': mainroad_no,\n",
    "    'mainroad_yes': mainroad_yes,\n",
    "    'guestroom_no': guestroom_no,\n",
    "    'guestroom_yes': guestroom_yes,\n",
    "    'basement_no': basement_no,\n",
    "    'basement_yes': basement_yes,\n",
    "    'hotwaterheating_no': hotwaterheating_no,\n",
    "    'hotwaterheating_yes': hotwaterheating_yes,\n",
    "    'airconditioning_no': airconditioning_no,\n",
    "    'airconditioning_yes': airconditioning_yes,\n",
    "    'prefarea_no': prefarea_no,\n",
    "    'prefarea_yes': prefarea_yes,\n",
    "    'furnishingstatus_furnished': furnishingstatus_furnished,\n",
    "    'furnishingstatus_semi-furnished': furnishingstatus_semi_furnished,\n",
    "    'furnishingstatus_unfurnished': furnishingstatus_unfurnished\n",
    "}\n",
    "\n",
    "# Convert the dictionary to a DataFrame\n",
    "df_unseen = pd.DataFrame(data)\n",
    "\n",
    "#Make Predictions\n",
    "predicted_prices = loaded_linear_reg_model.predict(df_unseen)\n",
    "\n",
    "print(predicted_prices)"
   ]
  },
  {
   "cell_type": "code",
   "execution_count": null,
   "id": "a1e552ae",
   "metadata": {},
   "outputs": [],
   "source": [
    "#Saved model will be used for the creation of the web app."
   ]
  }
 ],
 "metadata": {
  "kernelspec": {
   "display_name": "Python 3 (ipykernel)",
   "language": "python",
   "name": "python3"
  },
  "language_info": {
   "codemirror_mode": {
    "name": "ipython",
    "version": 3
   },
   "file_extension": ".py",
   "mimetype": "text/x-python",
   "name": "python",
   "nbconvert_exporter": "python",
   "pygments_lexer": "ipython3",
   "version": "3.11.4"
  }
 },
 "nbformat": 4,
 "nbformat_minor": 5
}
