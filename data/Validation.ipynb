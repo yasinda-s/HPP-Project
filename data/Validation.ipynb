{
 "cells": [
  {
   "cell_type": "code",
   "execution_count": 5,
   "id": "afa4e1c8",
   "metadata": {},
   "outputs": [],
   "source": [
    "import pandas as pd\n",
    "import numpy as np\n",
    "import matplotlib.pyplot as plt\n",
    "import xgboost as xgb\n",
    "import joblib\n",
    "\n",
    "from sklearn.preprocessing import OneHotEncoder\n",
    "from sklearn.preprocessing import MinMaxScaler\n",
    "from sklearn.preprocessing import PolynomialFeatures\n",
    "from sklearn.model_selection import train_test_split\n",
    "from sklearn.model_selection import GridSearchCV\n",
    "from sklearn.linear_model import LinearRegression\n",
    "from sklearn.metrics import mean_absolute_error, mean_squared_error, r2_score\n",
    "\n",
    "SEED = 42"
   ]
  },
  {
   "cell_type": "code",
   "execution_count": 6,
   "id": "1b10c726",
   "metadata": {},
   "outputs": [],
   "source": [
    "df = pd.read_csv(\"Housing.csv\")"
   ]
  },
  {
   "cell_type": "code",
   "execution_count": 7,
   "id": "6e32c4a4",
   "metadata": {},
   "outputs": [],
   "source": [
    "cols_to_convert = [\"mainroad\",\"guestroom\",\"basement\",\"hotwaterheating\",\"airconditioning\",\"prefarea\",\"furnishingstatus\"]\n",
    "\n",
    "one_hot_encoder = OneHotEncoder(sparse_output=False)\n",
    "for col in cols_to_convert:\n",
    "    encoded_col = one_hot_encoder.fit_transform(df[[col]]) #[[]] to make the input 2D\n",
    "    encoded_df = pd.DataFrame(encoded_col, columns=one_hot_encoder.get_feature_names_out([col]), index=df.index)\n",
    "    df = pd.concat([df.drop(col, axis=1), encoded_df], axis=1)"
   ]
  },
  {
   "cell_type": "code",
   "execution_count": 8,
   "id": "133f9278",
   "metadata": {},
   "outputs": [],
   "source": [
    "X = df[['area','bedrooms','bathrooms','stories','parking','mainroad_no','mainroad_yes','guestroom_no','guestroom_yes',\n",
    "       'basement_no','basement_yes','hotwaterheating_no','hotwaterheating_yes','airconditioning_no','airconditioning_yes',\n",
    "       'prefarea_no','prefarea_yes','furnishingstatus_furnished',\n",
    "       'furnishingstatus_semi-furnished','furnishingstatus_unfurnished']]\n",
    "\n",
    "y = df['price']"
   ]
  },
  {
   "cell_type": "code",
   "execution_count": 11,
   "id": "fd316f5e",
   "metadata": {},
   "outputs": [
    {
     "name": "stdout",
     "output_type": "stream",
     "text": [
      "Minimum Values: area                               1650.0\n",
      "bedrooms                              1.0\n",
      "bathrooms                             1.0\n",
      "stories                               1.0\n",
      "parking                               0.0\n",
      "mainroad_no                           0.0\n",
      "mainroad_yes                          0.0\n",
      "guestroom_no                          0.0\n",
      "guestroom_yes                         0.0\n",
      "basement_no                           0.0\n",
      "basement_yes                          0.0\n",
      "hotwaterheating_no                    0.0\n",
      "hotwaterheating_yes                   0.0\n",
      "airconditioning_no                    0.0\n",
      "airconditioning_yes                   0.0\n",
      "prefarea_no                           0.0\n",
      "prefarea_yes                          0.0\n",
      "furnishingstatus_furnished            0.0\n",
      "furnishingstatus_semi-furnished       0.0\n",
      "furnishingstatus_unfurnished          0.0\n",
      "dtype: float64\n",
      "\n",
      "Maximum Values: area                               16200.0\n",
      "bedrooms                               6.0\n",
      "bathrooms                              4.0\n",
      "stories                                4.0\n",
      "parking                                3.0\n",
      "mainroad_no                            1.0\n",
      "mainroad_yes                           1.0\n",
      "guestroom_no                           1.0\n",
      "guestroom_yes                          1.0\n",
      "basement_no                            1.0\n",
      "basement_yes                           1.0\n",
      "hotwaterheating_no                     1.0\n",
      "hotwaterheating_yes                    1.0\n",
      "airconditioning_no                     1.0\n",
      "airconditioning_yes                    1.0\n",
      "prefarea_no                            1.0\n",
      "prefarea_yes                           1.0\n",
      "furnishingstatus_furnished             1.0\n",
      "furnishingstatus_semi-furnished        1.0\n",
      "furnishingstatus_unfurnished           1.0\n",
      "dtype: float64\n"
     ]
    }
   ],
   "source": [
    "# Minimum values of all columns\n",
    "min_values = X.min()\n",
    "\n",
    "# Maximum values of all columns\n",
    "max_values = X.max()\n",
    "\n",
    "# Print the results\n",
    "print(\"Minimum Values:\", min_values)\n",
    "print(\"\\nMaximum Values:\", max_values)"
   ]
  },
  {
   "cell_type": "code",
   "execution_count": null,
   "id": "76819649",
   "metadata": {},
   "outputs": [],
   "source": []
  }
 ],
 "metadata": {
  "kernelspec": {
   "display_name": "Python 3 (ipykernel)",
   "language": "python",
   "name": "python3"
  },
  "language_info": {
   "codemirror_mode": {
    "name": "ipython",
    "version": 3
   },
   "file_extension": ".py",
   "mimetype": "text/x-python",
   "name": "python",
   "nbconvert_exporter": "python",
   "pygments_lexer": "ipython3",
   "version": "3.11.4"
  }
 },
 "nbformat": 4,
 "nbformat_minor": 5
}
